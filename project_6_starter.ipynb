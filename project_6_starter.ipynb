{
 "cells": [
  {
   "cell_type": "markdown",
   "metadata": {},
   "source": [
    "# Project 6: Analyzing Stock Sentiment from Twits\n",
    "## Instructions\n",
    "Each problem consists of a function to implement and instructions on how to implement the function.  The parts of the function that need to be implemented are marked with a `# TODO` comment.\n",
    "\n",
    "## Packages\n",
    "When you implement the functions, you'll only need to you use the packages you've used in the classroom, like [Pandas](https://pandas.pydata.org/) and [Numpy](http://www.numpy.org/). These packages will be imported for you. We recommend you don't add any import statements, otherwise the grader might not be able to run your code.\n",
    "\n",
    "### Load Packages"
   ]
  },
  {
   "cell_type": "code",
   "execution_count": 1,
   "metadata": {},
   "outputs": [],
   "source": [
    "import json\n",
    "import nltk\n",
    "import os\n",
    "import random\n",
    "import re\n",
    "import torch\n",
    "import numpy as np\n",
    "\n",
    "from torch import nn, optim\n",
    "import torch.nn.functional as F"
   ]
  },
  {
   "cell_type": "markdown",
   "metadata": {},
   "source": [
    "## Introduction\n",
    "When deciding the value of a company, it's important to follow the news. For example, a product recall or natural disaster in a company's product chain. You want to be able to turn this information into a signal. Currently, the best tool for the job is a Neural Network. \n",
    "\n",
    "For this project, you'll use posts from the social media site [StockTwits](https://en.wikipedia.org/wiki/StockTwits). The community on StockTwits is full of investors, traders, and entrepreneurs. Each message posted is called a Twit. This is similar to Twitter's version of a post, called a Tweet. You'll build a model around these twits that generate a sentiment score.\n",
    "\n",
    "We've collected a bunch of twits, then hand labeled the sentiment of each. To capture the degree of sentiment, we'll use a five-point scale: very negative, negative, neutral, positive, very positive. Each twit is labeled -2 to 2 in steps of 1, from very negative to very positive respectively. You'll build a sentiment analysis model that will learn to assign sentiment to twits on its own, using this labeled data.\n",
    "\n",
    "The first thing we should to do, is load the data.\n",
    "\n",
    "## Import Twits \n",
    "### Load Twits Data \n",
    "This JSON file contains a list of objects for each twit in the `'data'` field:\n",
    "\n",
    "```\n",
    "{'data':\n",
    "  {'message_body': 'Neutral twit body text here',\n",
    "   'sentiment': 0},\n",
    "  {'message_body': 'Happy twit body text here',\n",
    "   'sentiment': 1},\n",
    "   ...\n",
    "}\n",
    "```\n",
    "\n",
    "The fields represent the following:\n",
    "\n",
    "* `'message_body'`: The text of the twit.\n",
    "* `'sentiment'`: Sentiment score for the twit, ranges from -2 to 2 in steps of 1, with 0 being neutral.\n",
    "\n",
    "\n",
    "To see what the data look like by printing the first 10 twits from the list. "
   ]
  },
  {
   "cell_type": "code",
   "execution_count": 2,
   "metadata": {},
   "outputs": [
    {
     "name": "stdout",
     "output_type": "stream",
     "text": [
      "[{'message_body': '$FITB great buy at 26.00...ill wait', 'sentiment': 2, 'timestamp': '2018-07-01T00:00:09Z'}, {'message_body': '@StockTwits $MSFT', 'sentiment': 1, 'timestamp': '2018-07-01T00:00:42Z'}, {'message_body': '#STAAnalystAlert for $TDG : Jefferies Maintains with a rating of Hold setting target price at USD 350.00. Our own verdict is Buy  http://www.stocktargetadvisor.com/toprating', 'sentiment': 2, 'timestamp': '2018-07-01T00:01:24Z'}, {'message_body': '$AMD I heard there’s a guy who knows someone who thinks somebody knows something - on StockTwits.', 'sentiment': 1, 'timestamp': '2018-07-01T00:01:47Z'}, {'message_body': '$AMD reveal yourself!', 'sentiment': 0, 'timestamp': '2018-07-01T00:02:13Z'}, {'message_body': '$AAPL Why the drop? I warren Buffet taking out his position?', 'sentiment': 1, 'timestamp': '2018-07-01T00:03:10Z'}, {'message_body': '$BA bears have 1 reason on 06-29 to pay more attention https://dividendbot.com?s=BA', 'sentiment': -2, 'timestamp': '2018-07-01T00:04:09Z'}, {'message_body': '$BAC ok good we&#39;re not dropping in price over the weekend, lol', 'sentiment': 1, 'timestamp': '2018-07-01T00:04:17Z'}, {'message_body': '$AMAT - Daily Chart, we need to get back to above 50.', 'sentiment': 2, 'timestamp': '2018-07-01T00:08:01Z'}, {'message_body': '$GME 3% drop per week after spike... if no news in 3 months, back to 12s... if BO, then bingo... what is the odds?', 'sentiment': -2, 'timestamp': '2018-07-01T00:09:03Z'}]\n"
     ]
    }
   ],
   "source": [
    "with open(os.path.join('..', '..', 'data', 'project_6_stocktwits', 'twits.json'), 'r') as f:\n",
    "    twits = json.load(f)\n",
    "\n",
    "print(twits['data'][:10])"
   ]
  },
  {
   "cell_type": "markdown",
   "metadata": {},
   "source": [
    "### Length of Data\n",
    "Now let's look at the number of twits in dataset. Print the number of twits below."
   ]
  },
  {
   "cell_type": "code",
   "execution_count": 3,
   "metadata": {},
   "outputs": [
    {
     "data": {
      "text/plain": [
       "1548010"
      ]
     },
     "execution_count": 3,
     "metadata": {},
     "output_type": "execute_result"
    }
   ],
   "source": [
    "\"\"\"print out the number of twits\"\"\"\n",
    "\n",
    "# TODO Implement \n",
    "sum(len(v) for v in twits.values())"
   ]
  },
  {
   "cell_type": "markdown",
   "metadata": {},
   "source": [
    "### Split Message Body and Sentiment Score"
   ]
  },
  {
   "cell_type": "code",
   "execution_count": 4,
   "metadata": {},
   "outputs": [],
   "source": [
    "messages = [twit['message_body'] for twit in twits['data']]\n",
    "# Since the sentiment scores are discrete, we'll scale the sentiments to 0 to 4 for use in our network\n",
    "sentiments = [twit['sentiment'] + 2 for twit in twits['data']]"
   ]
  },
  {
   "cell_type": "markdown",
   "metadata": {},
   "source": [
    "## Preprocessing the Data\n",
    "With our data in hand we need to preprocess our text. These twits are collected by filtering on ticker symbols where these are denoted with a leader $ symbol in the twit itself. For example,\n",
    "\n",
    "`{'message_body': 'RT @google Our annual look at the year in Google blogging (and beyond) http://t.co/sptHOAh8 $GOOG',\n",
    " 'sentiment': 0}`\n",
    "\n",
    "The ticker symbols don't provide information on the sentiment, and they are in every twit, so we should remove them. This twit also has the `@google` username, again not providing sentiment information, so we should also remove it. We also see a URL `http://t.co/sptHOAh8`. Let's remove these too.\n",
    "\n",
    "The easiest way to remove specific words or phrases is with regex using the `re` module. You can sub out specific patterns with a space:\n",
    "\n",
    "```python\n",
    "re.sub(pattern, ' ', text)\n",
    "```\n",
    "This will substitute a space with anywhere the pattern matches in the text. Later when we tokenize the text, we'll split appropriately on those spaces."
   ]
  },
  {
   "cell_type": "markdown",
   "metadata": {},
   "source": [
    "### Pre-Processing"
   ]
  },
  {
   "cell_type": "code",
   "execution_count": 5,
   "metadata": {},
   "outputs": [
    {
     "name": "stdout",
     "output_type": "stream",
     "text": [
      "[nltk_data] Downloading package wordnet to /root/nltk_data...\n",
      "[nltk_data]   Unzipping corpora/wordnet.zip.\n"
     ]
    },
    {
     "data": {
      "text/plain": [
       "True"
      ]
     },
     "execution_count": 5,
     "metadata": {},
     "output_type": "execute_result"
    }
   ],
   "source": [
    "nltk.download('wordnet')"
   ]
  },
  {
   "cell_type": "code",
   "execution_count": 6,
   "metadata": {},
   "outputs": [],
   "source": [
    "from string import punctuation"
   ]
  },
  {
   "cell_type": "code",
   "execution_count": 7,
   "metadata": {},
   "outputs": [],
   "source": [
    "def preprocess(text):\n",
    "    \"\"\"\n",
    "    This function takes a string as input, then performs these operations: \n",
    "        - lowercase\n",
    "        - remove URLs\n",
    "        - remove ticker symbols \n",
    "        - removes punctuation\n",
    "        - tokenize by splitting the string on whitespace \n",
    "        - removes any single character tokens\n",
    "    \n",
    "    Parameters\n",
    "    ----------\n",
    "        message : The text message to be preprocessed.\n",
    "        \n",
    "    Returns\n",
    "    -------\n",
    "        tokens: The preprocessed text into tokens.\n",
    "    \"\"\" \n",
    "    #TODO: Implement \n",
    "\n",
    "    # Lowercase the twit message\n",
    "    text = [x.lower() for x in text]\n",
    "    \n",
    "    # Replace URLs with a space in the message\n",
    "    text = [re.sub(r\"http\\S+\", \" \", x) for x in text]\n",
    "\n",
    "    # Replace ticker symbols with a space. The ticker symbols are any stock symbol that starts with $.\n",
    "    text = [re.sub(r\"\\$\\S+\", \" \", x) for x in text]\n",
    "\n",
    "    # Replace StockTwits usernames with a space. The usernames are any word that starts with @.\n",
    "    text = [re.sub(r\"\\@\\S+\", \" \", x) for x in text]\n",
    "\n",
    "    # Replace everything not a letter with a space\n",
    "    #text = ''.join([c for c in text if c not in punctuation])\n",
    "    text = [re.sub(\"[^a-z]\", \" \", x) for x in text]\n",
    "    \n",
    "    # Tokenize by splitting the string on whitespace into a list of words\n",
    "    tokens = [x.split() for x in text]\n",
    "    \n",
    "    #tokens = [x for x in tokens if x !=[]]\n",
    "\n",
    "    # Lemmatize words using the WordNetLemmatizer. You can ignore any word that is not longer than one character.\n",
    "    #wnl = nltk.stem.WordNetLemmatizer()\n",
    "    #tokens =  [wnl.lemmatize(w) for w in tokens]\n",
    "\n",
    "    return tokens"
   ]
  },
  {
   "cell_type": "markdown",
   "metadata": {},
   "source": [
    "### Preprocess All the Twits \n",
    "Now we can preprocess each of the twits in our dataset. Apply the function `preprocess` to all the twit messages."
   ]
  },
  {
   "cell_type": "code",
   "execution_count": 8,
   "metadata": {
    "scrolled": true
   },
   "outputs": [
    {
     "name": "stdout",
     "output_type": "stream",
     "text": [
      "[['great', 'buy', 'at', 'ill', 'wait'], [], ['staanalystalert', 'for', 'jefferies', 'maintains', 'with', 'a', 'rating', 'of', 'hold', 'setting', 'target', 'price', 'at', 'usd', 'our', 'own', 'verdict', 'is', 'buy'], ['i', 'heard', 'there', 's', 'a', 'guy', 'who', 'knows', 'someone', 'who', 'thinks', 'somebody', 'knows', 'something', 'on', 'stocktwits'], ['reveal', 'yourself'], ['why', 'the', 'drop', 'i', 'warren', 'buffet', 'taking', 'out', 'his', 'position'], ['bears', 'have', 'reason', 'on', 'to', 'pay', 'more', 'attention'], ['ok', 'good', 'we', 're', 'not', 'dropping', 'in', 'price', 'over', 'the', 'weekend', 'lol'], ['daily', 'chart', 'we', 'need', 'to', 'get', 'back', 'to', 'above'], ['drop', 'per', 'week', 'after', 'spike', 'if', 'no', 'news', 'in', 'months', 'back', 'to', 's', 'if', 'bo', 'then', 'bingo', 'what', 'is', 'the', 'odds'], ['strong', 'buy'], ['short', 'ratio', 'is', 'at', 'and', 'short', 'to', 'float', 'is', 'via'], ['price', 'squeezing', 'perfect', 'place', 'for', 'an', 'option', 'straddle', 'near', 'the', 'supporting', 'trend'], ['start', 'of', 'new', 'q', 'on', 'monday', 'expect', 'strong', 'buy', 'volume', 'across', 'key', 'companies', 'of', 'various', 'sectors'], ['breakout', 'strategy', 'current', 'portfolio'], ['bulls', 'have', 'reasons', 'on', 'to', 'pay', 'more', 'attention'], ['catalysts', 'continuing', 'this', 'new', 'uptrend', 'pill', 'pack', 'buy', 'out', 'amazon', 'prime', 'day', 'earnings', 'test', 'break', 'of', 'soon'], ['has', 'moved', 'on', 'check', 'out', 'the', 'movement', 'and', 'peers', 'at'], ['staanalystalert', 'for', 'mkm', 'partners', 'set', 'price', 'target', 'with', 'a', 'rating', 'of', 'buy', 'setting', 'target', 'price', 'at', 'usd', 'our', 'own', 'verdict', 'is', 'buy'], ['i', 'think', 'it', 'is', 'too', 'early', 'to', 'tell', 'what', 's', 'going', 'to', 'happen', 'monday', 'even', 'with', 'the', 'current', 'news', 'about', 'raisinf', 'output', 'there', 'is', 'still', 'so', 'many'], ['has', 'a', 'current', 'ratio', 'of', 'so', 'it', 'is', 'financially', 'healthy', 'and', 'has', 'no', 'problem', 'in', 'meeting', 'its', 'obligations'], ['bullish', 'stocks', 'to', 'watch', 'setups', 'timeframes', 'blog', 'by'], ['just', 'short', 'it'], ['high', 'alert', 'for', 'next', 'week', 'gt', 'breakdown'], ['the', 'current', 'ratio', 'of', 'is', 'much', 'better', 'than', 'the', 'industry', 'average', 'of'], ['i', 'miss', 'these', 'days'], ['if', 'breaks', 'and', 'confirms', 'next', 'week', 'you', 'will', 'see', 'a', 'violent', 'move', 'downward', 'to', 'my', 'buy', 'price'], ['bears', 'have', 'reasons', 'on', 'to', 'pay', 'more', 'attention'], ['breakouts', 'base', 'gap', 'and', 'day', 'ma', 'gap', 'gap', 'gap', 'and', 'day', 'ma'], ['cabot', 'weekly', 'video', 'quot', 'resilient', 'growth', 'stocks', 'to', 'watch', 'quot']]\n"
     ]
    }
   ],
   "source": [
    "# TODO Implement\n",
    "tokenized = preprocess(messages)\n",
    "\n",
    "print(tokenized[:30])"
   ]
  },
  {
   "cell_type": "code",
   "execution_count": 9,
   "metadata": {},
   "outputs": [
    {
     "data": {
      "text/plain": [
       "1548010"
      ]
     },
     "execution_count": 9,
     "metadata": {},
     "output_type": "execute_result"
    }
   ],
   "source": [
    "len(tokenized)"
   ]
  },
  {
   "cell_type": "markdown",
   "metadata": {},
   "source": [
    "### Bag of Words\n",
    "Now with all of our messages tokenized, we want to create a vocabulary and count up how often each word appears in our entire corpus. Use the [`Counter`](https://docs.python.org/3.1/library/collections.html#collections.Counter) function to count up all the tokens."
   ]
  },
  {
   "cell_type": "code",
   "execution_count": 10,
   "metadata": {},
   "outputs": [],
   "source": [
    "from collections import Counter\n",
    "\n",
    "\n",
    "\"\"\"\n",
    "Create a vocabulary by using Bag of words\n",
    "\"\"\"\n",
    "\n",
    "# TODO: Implement \n",
    "\n",
    "bow = Counter()\n",
    "for tokens in tokenized:\n",
    "    bow.update(tokens)"
   ]
  },
  {
   "cell_type": "markdown",
   "metadata": {},
   "source": [
    "### Frequency of Words Appearing in Message\n",
    "With our vocabulary, now we'll remove some of the most common words such as 'the', 'and', 'it', etc. These words don't contribute to identifying sentiment and are really common, resulting in a lot of noise in our input. If we can filter these out, then our network should have an easier time learning.\n",
    "\n",
    "We also want to remove really rare words that show up in a only a few twits. Here you'll want to divide the count of each word by the number of messages. Then remove words that only appear in some small fraction of the messages."
   ]
  },
  {
   "cell_type": "code",
   "execution_count": 11,
   "metadata": {
    "scrolled": true
   },
   "outputs": [
    {
     "name": "stdout",
     "output_type": "stream",
     "text": [
      "[('the', 398753), ('to', 379487), ('is', 284865), ('a', 279204), ('for', 273537), ('on', 241663), ('of', 211334), ('and', 208471), ('in', 205263), ('this', 203540)]\n"
     ]
    },
    {
     "data": {
      "text/plain": [
       "25540"
      ]
     },
     "execution_count": 11,
     "metadata": {},
     "output_type": "execute_result"
    }
   ],
   "source": [
    "\"\"\"\n",
    "Set the following variables:\n",
    "    freqs\n",
    "    low_cutoff\n",
    "    high_cutoff\n",
    "    K_most_common\n",
    "\"\"\"\n",
    "\n",
    "# TODO Implement \n",
    "\n",
    "# Dictionart that contains the Frequency of words appearing in messages.\n",
    "# The key is the token and the value is the frequency of that word in the corpus.\n",
    "\n",
    "total_words = len(tokenized)#[word for message in tokenized for word in message]\n",
    "count = len([word for message in tokenized for word in message])\n",
    "#\n",
    "#word_counts = Counter(int_words)\n",
    "#\n",
    "\n",
    "freqs = {word: count/total_words for word, count in bow.items()}\n",
    "\n",
    "# Float that is the frequency cutoff. Drop words with a frequency that is lower or equal to this number.\n",
    "low_cutoff = 0.000004\n",
    "\n",
    "# Integer that is the cut off for most common words. Drop words that are the `high_cutoff` most common words.\n",
    "high_cutoff = 10\n",
    "\n",
    "# The k most common words in the corpus. Use `high_cutoff` as the k.\n",
    "K_most_common = bow.most_common(10)\n",
    "\n",
    "\n",
    "filtered_words = [word for word in freqs if (freqs[word] > low_cutoff and word not in K_most_common)]\n",
    "print(K_most_common)\n",
    "len(filtered_words) "
   ]
  },
  {
   "cell_type": "markdown",
   "metadata": {},
   "source": [
    "### Updating Vocabulary by Removing Filtered Words\n",
    "Let's creat three variables that will help with our vocabulary."
   ]
  },
  {
   "cell_type": "code",
   "execution_count": 12,
   "metadata": {},
   "outputs": [
    {
     "name": "stderr",
     "output_type": "stream",
     "text": [
      "100%|██████████| 1548010/1548010 [00:07<00:00, 205601.40it/s]\n"
     ]
    }
   ],
   "source": [
    "\"\"\"\n",
    "Set the following variables:\n",
    "    vocab\n",
    "    id2vocab\n",
    "    filtered\n",
    "\"\"\"\n",
    "\n",
    "#TODO Implement\n",
    "\n",
    "# A dictionary for the `filtered_words`. The key is the word and value is an id that represents the word. \n",
    "vocab = {word: ii for ii, word in enumerate(filtered_words)}\n",
    "# Reverse of the `vocab` dictionary. The key is word id and value is the word. \n",
    "id2vocab = {ii: word for ii, word in vocab.items()}\n",
    "# tokenized with the words not in `filtered_words` removed.\n",
    "from tqdm import tqdm\n",
    "filtered = [[word for word in message if word in vocab] for message in tqdm(tokenized)]\n"
   ]
  },
  {
   "cell_type": "markdown",
   "metadata": {},
   "source": [
    "### Balancing the classes\n",
    "Let's do a few last pre-processing steps. If we look at how our twits are labeled, we'll find that 50% of them are neutral. This means that our network will be 50% accurate just by guessing 0 every single time. To help our network learn appropriately, we'll want to balance our classes.\n",
    "That is, make sure each of our different sentiment scores show up roughly as frequently in the data.\n",
    "\n",
    "What we can do here is go through each of our examples and randomly drop twits with neutral sentiment. What should be the probability we drop these twits if we want to get around 20% neutral twits starting at 50% neutral? We should also take this opportunity to remove messages with length 0."
   ]
  },
  {
   "cell_type": "code",
   "execution_count": 13,
   "metadata": {},
   "outputs": [],
   "source": [
    "balanced = {'messages': [], 'sentiments':[]}\n",
    "\n",
    "n_neutral = sum(1 for each in sentiments if each == 2)\n",
    "N_examples = len(sentiments)\n",
    "keep_prob = (N_examples - n_neutral)/4/n_neutral\n",
    "\n",
    "for idx, sentiment in enumerate(sentiments):\n",
    "    message = filtered[idx]\n",
    "    if len(message) == 0:\n",
    "        # skip this message because it has length zero\n",
    "        continue\n",
    "    elif sentiment != 2 or random.random() < keep_prob:\n",
    "        balanced['messages'].append(message)\n",
    "        balanced['sentiments'].append(sentiment) "
   ]
  },
  {
   "cell_type": "markdown",
   "metadata": {},
   "source": [
    "If you did it correctly, you should see the following result "
   ]
  },
  {
   "cell_type": "code",
   "execution_count": 14,
   "metadata": {},
   "outputs": [
    {
     "data": {
      "text/plain": [
       "0.19467996691101955"
      ]
     },
     "execution_count": 14,
     "metadata": {},
     "output_type": "execute_result"
    }
   ],
   "source": [
    "n_neutral = sum(1 for each in balanced['sentiments'] if each == 2)\n",
    "N_examples = len(balanced['sentiments'])\n",
    "n_neutral/N_examples"
   ]
  },
  {
   "cell_type": "markdown",
   "metadata": {},
   "source": [
    "Finally let's convert our tokens into integer ids which we can pass to the network."
   ]
  },
  {
   "cell_type": "code",
   "execution_count": 15,
   "metadata": {},
   "outputs": [],
   "source": [
    "token_ids = [[vocab[word] for word in message] for message in balanced['messages']]\n",
    "sentiments = balanced['sentiments']"
   ]
  },
  {
   "cell_type": "markdown",
   "metadata": {},
   "source": [
    "## Neural Network\n",
    "Now we have our vocabulary which means we can transform our tokens into ids, which are then passed to our network. So, let's define the network now!\n",
    "\n",
    "Here is a nice diagram showing the network we'd like to build: \n",
    "\n",
    "#### Embed -> RNN -> Dense -> Softmax\n",
    "### Implement the text classifier\n",
    "Before we build text classifier, if you remember from the other network that you built in  \"Sentiment Analysis with an RNN\"  exercise  - which there, the network called \" SentimentRNN\", here we named it \"TextClassifer\" - consists of three main parts: 1) init function `__init__` 2) forward pass `forward`  3) hidden state `init_hidden`. \n",
    "\n",
    "This network is pretty similar to the network you built expect in the  `forward` pass, we use softmax instead of sigmoid. The reason we are not using sigmoid is that the output of NN is not a binary. In our network, sentiment scores have 5 possible outcomes. We are looking for an outcome with the highest probability thus softmax is a better choice."
   ]
  },
  {
   "cell_type": "code",
   "execution_count": 16,
   "metadata": {},
   "outputs": [],
   "source": [
    "class TextClassifier(nn.Module):\n",
    "    def __init__(self, vocab_size, embed_size, lstm_size, output_size, lstm_layers=1, dropout=0.1):\n",
    "        \"\"\"\n",
    "        Initialize the model by setting up the layers.\n",
    "        \n",
    "        Parameters\n",
    "        ----------\n",
    "            vocab_size : The vocabulary size.\n",
    "            embed_size : The embedding layer size.\n",
    "            lstm_size : The LSTM layer size.\n",
    "            output_size : The output size.\n",
    "            lstm_layers : The number of LSTM layers.\n",
    "            dropout : The dropout probability.\n",
    "        \"\"\"\n",
    "        \n",
    "        super().__init__()\n",
    "        self.vocab_size = vocab_size\n",
    "        self.embed_size = embed_size\n",
    "        self.lstm_size = lstm_size\n",
    "        self.output_size = output_size\n",
    "        self.lstm_layers = lstm_layers\n",
    "        self.dropout = dropout\n",
    "        \n",
    "        # TODO Implement\n",
    "\n",
    "        # Setup embedding layer\n",
    "        self.embedding = nn.Embedding(vocab_size, embed_size)\n",
    "        \n",
    "        # Setup additional layers\n",
    "        self.lstm = nn.LSTM(embed_size, lstm_size, lstm_layers, dropout=dropout, batch_first=False)\n",
    "\n",
    "        # dropout layer\n",
    "        self.dropout = nn.Dropout(dropout)\n",
    "\n",
    "        # linear and sigmoid layers\n",
    "        self.fc = nn.Linear(lstm_size, output_size)\n",
    "        self.log_softmax = nn.LogSoftmax(dim=1)\n",
    "\n",
    "    def init_hidden(self, batch_size):\n",
    "        \"\"\" \n",
    "        Initializes hidden state\n",
    "        \n",
    "        Parameters\n",
    "        ----------\n",
    "            batch_size : The size of batches.\n",
    "        \n",
    "        Returns\n",
    "        -------\n",
    "            hidden_state\n",
    "            \n",
    "        \"\"\"\n",
    "        \n",
    "        # TODO Implement \n",
    "        \n",
    "        # Create two new tensors with sizes n_layers x batch_size x hidden_dim,\n",
    "        # initialized to zero, for hidden state and cell state of LSTM\n",
    "        \n",
    "        weight = next(self.parameters()).data\n",
    "\n",
    "\n",
    "        hidden_state = (weight.new(self.lstm_layers, batch_size, self.lstm_size).zero_(),\n",
    "                        weight.new(self.lstm_layers, batch_size, self.lstm_size).zero_())  \n",
    "\n",
    "        return hidden_state\n",
    "\n",
    "    \n",
    "#            weight = next(self.parameters()).data\n",
    "\n",
    "#         train_on_gpu = False\n",
    "        \n",
    "#         if (train_on_gpu):\n",
    "#             hidden_state = (weight.new(self.lstm_layers, batch_size, self.lstm_size).zero_().cuda(),\n",
    "#                             weight.new(self.lstm_layers, batch_size, self.lstm_size).zero_().cuda())\n",
    "#         else:\n",
    "#             hidden_state = (weight.new(self.lstm_layers, batch_size, self.lstm_size).zero_(),\n",
    "#                             weight.new(self.lstm_layers, batch_size, self.lstm_size).zero_())  \n",
    "\n",
    "#         return hidden_state\n",
    "\n",
    "\n",
    "    def forward(self, nn_input, hidden_state):\n",
    "        \"\"\"\n",
    "        Perform a forward pass of our model on nn_input.\n",
    "        \n",
    "        Parameters\n",
    "        ----------\n",
    "            nn_input : The batch of input to the NN.\n",
    "            hidden_state : The LSTM hidden state.\n",
    "\n",
    "        Returns\n",
    "        -------\n",
    "            logps: log softmax output\n",
    "            hidden_state: The new hidden state.\n",
    "\n",
    "        \"\"\"\n",
    "        \n",
    "        # TODO Implement \n",
    "        \n",
    "        batch_size = nn_input.size(0)\n",
    "\n",
    "        # embeddings and lstm_out\n",
    "        \n",
    "        nn_input = nn_input.long()\n",
    "        \n",
    "        embeds = self.embedding(nn_input)\n",
    "        lstm_out, hidden = self.lstm(embeds, hidden_state)\n",
    "\n",
    "        # stack up lstm outputs\n",
    "        #lstm_out = lstm_out.contiguous().view(-1, self.lstm_size)\n",
    "        lstm_out = lstm_out[-1,:,:]\n",
    "        \n",
    "        # dropout and fully-connected layer\n",
    "        out = self.dropout(lstm_out)\n",
    "        out = self.fc(out)\n",
    "\n",
    "        # sigmoid function\n",
    "        logps = self.log_softmax(out)\n",
    "\n",
    "        # reshape to be batch_size first\n",
    "        #logps = logps.view(batch_size, -1)\n",
    "        #logps = logps[:, -1] # get last batch of labels\n",
    "\n",
    "        # return last sigmoid output and hidden state       \n",
    "        \n",
    "        return logps, hidden_state"
   ]
  },
  {
   "cell_type": "markdown",
   "metadata": {},
   "source": [
    "### View Model"
   ]
  },
  {
   "cell_type": "code",
   "execution_count": 17,
   "metadata": {},
   "outputs": [
    {
     "name": "stdout",
     "output_type": "stream",
     "text": [
      "tensor([[-1.6166, -2.0743, -1.5462, -1.5406, -1.3924],\n",
      "        [-1.6141, -2.0752, -1.5283, -1.5558, -1.3964],\n",
      "        [-1.6161, -2.0780, -1.5558, -1.5137, -1.4064],\n",
      "        [-1.6232, -2.0730, -1.5434, -1.5267, -1.4024]])\n"
     ]
    }
   ],
   "source": [
    "model = TextClassifier(len(vocab), 10, 6, 5, dropout=0.1, lstm_layers=2)\n",
    "model.embedding.weight.data.uniform_(-1, 1)\n",
    "input = torch.randint(0, 1000, (5, 4), dtype=torch.int64)\n",
    "hidden = model.init_hidden(4)\n",
    "\n",
    "logps, _ = model.forward(input, hidden)\n",
    "print(logps)"
   ]
  },
  {
   "cell_type": "markdown",
   "metadata": {},
   "source": [
    "## Training\n",
    "### DataLoaders and Batching\n",
    "Now we should build a generator that we can use to loop through our data. It'll be more efficient if we can pass our sequences in as batches. Our input tensors should look like `(sequence_length, batch_size)`. So if our sequences are 40 tokens long and we pass in 25 sequences, then we'd have an input size of `(40, 25)`.\n",
    "\n",
    "If we set our sequence length to 40, what do we do with messages that are more or less than 40 tokens? For messages with fewer than 40 tokens, we will pad the empty spots with zeros. We should be sure to **left** pad so that the RNN starts from nothing before going through the data. If the message has 20 tokens, then the first 20 spots of our 40 long sequence will be 0. If a message has more than 40 tokens, we'll just keep the first 40 tokens."
   ]
  },
  {
   "cell_type": "code",
   "execution_count": 18,
   "metadata": {},
   "outputs": [],
   "source": [
    "def dataloader(messages, labels, sequence_length=30, batch_size=32, shuffle=False):\n",
    "    \"\"\" \n",
    "    Build a dataloader.\n",
    "    \"\"\"\n",
    "    if shuffle:\n",
    "        indices = list(range(len(messages)))\n",
    "        random.shuffle(indices)\n",
    "        messages = [messages[idx] for idx in indices]\n",
    "        labels = [labels[idx] for idx in indices]\n",
    "\n",
    "    total_sequences = len(messages)\n",
    "\n",
    "    for ii in range(0, total_sequences, batch_size):\n",
    "        batch_messages = messages[ii: ii+batch_size]\n",
    "        \n",
    "        # First initialize a tensor of all zeros\n",
    "        batch = torch.zeros((sequence_length, len(batch_messages)), dtype=torch.int64)\n",
    "        for batch_num, tokens in enumerate(batch_messages):\n",
    "            token_tensor = torch.tensor(tokens)\n",
    "            # Left pad!\n",
    "            start_idx = max(sequence_length - len(token_tensor), 0)\n",
    "            batch[start_idx:, batch_num] = token_tensor[:sequence_length]\n",
    "        \n",
    "        label_tensor = torch.tensor(labels[ii: ii+len(batch_messages)])\n",
    "        \n",
    "        yield batch, label_tensor"
   ]
  },
  {
   "cell_type": "markdown",
   "metadata": {},
   "source": [
    "### Training and  Validation\n",
    "With our data in nice shape, we'll split it into training and validation sets."
   ]
  },
  {
   "cell_type": "code",
   "execution_count": 19,
   "metadata": {},
   "outputs": [],
   "source": [
    "\"\"\"\n",
    "Split data into training and validation datasets. Use an appropriate split size.\n",
    "The features are the `token_ids` and the labels are the `sentiments`.\n",
    "\"\"\"   \n",
    "\n",
    "# TODO Implement \n",
    "\n",
    "split_frac = 0.8\n",
    "split_idx = int(len(filtered)*split_frac)\n",
    "\n",
    "train_features = token_ids[:split_idx]\n",
    "valid_features = token_ids[split_idx:]\n",
    "train_labels = sentiments[:split_idx] \n",
    "valid_labels = sentiments[split_idx:]"
   ]
  },
  {
   "cell_type": "code",
   "execution_count": 20,
   "metadata": {},
   "outputs": [],
   "source": [
    "text_batch, labels = next(iter(dataloader(train_features, train_labels, sequence_length=20, batch_size=64)))\n",
    "model = TextClassifier(len(vocab)+1, 200, 128, 5, dropout=0)\n",
    "hidden = model.init_hidden(64)\n",
    "logps, hidden = model.forward(text_batch, hidden)"
   ]
  },
  {
   "cell_type": "markdown",
   "metadata": {},
   "source": [
    "### Training\n",
    "It's time to train the neural network!"
   ]
  },
  {
   "cell_type": "code",
   "execution_count": 21,
   "metadata": {},
   "outputs": [
    {
     "data": {
      "text/plain": [
       "TextClassifier(\n",
       "  (embedding): Embedding(25541, 1024)\n",
       "  (lstm): LSTM(1024, 512, num_layers=2, dropout=0.2)\n",
       "  (dropout): Dropout(p=0.2)\n",
       "  (fc): Linear(in_features=512, out_features=5, bias=True)\n",
       "  (log_softmax): LogSoftmax()\n",
       ")"
      ]
     },
     "execution_count": 21,
     "metadata": {},
     "output_type": "execute_result"
    }
   ],
   "source": [
    "device = torch.device(\"cuda\" if torch.cuda.is_available() else \"cpu\")\n",
    "\n",
    "model = TextClassifier(len(vocab)+1, 1024, 512, 5, lstm_layers=2, dropout=0.2)\n",
    "model.embedding.weight.data.uniform_(-1, 1)\n",
    "model.to(device)"
   ]
  },
  {
   "cell_type": "code",
   "execution_count": 24,
   "metadata": {
    "scrolled": true
   },
   "outputs": [
    {
     "name": "stdout",
     "output_type": "stream",
     "text": [
      "Starting epoch 1\n"
     ]
    },
    {
     "name": "stderr",
     "output_type": "stream",
     "text": [
      "/opt/conda/lib/python3.6/site-packages/numpy/core/fromnumeric.py:2889: RuntimeWarning: Mean of empty slice.\n",
      "  out=out, **kwargs)\n",
      "/opt/conda/lib/python3.6/site-packages/numpy/core/_methods.py:80: RuntimeWarning: invalid value encountered in double_scalars\n",
      "  ret = ret.dtype.type(ret / rcount)\n"
     ]
    },
    {
     "name": "stdout",
     "output_type": "stream",
     "text": [
      "Epoch: 1/1... Step: 1... Training Loss: 1.571210... Val Loss: nan\n",
      "Epoch: 1/1... Step: 2... Training Loss: 1.542701... Val Loss: nan\n",
      "Epoch: 1/1... Step: 3... Training Loss: 1.540667... Val Loss: nan\n",
      "Epoch: 1/1... Step: 4... Training Loss: 1.522770... Val Loss: nan\n",
      "Epoch: 1/1... Step: 5... Training Loss: 1.501919... Val Loss: nan\n",
      "Epoch: 1/1... Step: 6... Training Loss: 1.479724... Val Loss: nan\n",
      "Epoch: 1/1... Step: 7... Training Loss: 1.449163... Val Loss: nan\n",
      "Epoch: 1/1... Step: 8... Training Loss: 1.425568... Val Loss: nan\n",
      "Epoch: 1/1... Step: 9... Training Loss: 1.437111... Val Loss: nan\n",
      "Epoch: 1/1... Step: 10... Training Loss: 1.437633... Val Loss: nan\n",
      "Epoch: 1/1... Step: 11... Training Loss: 1.410395... Val Loss: nan\n",
      "Epoch: 1/1... Step: 12... Training Loss: 1.453498... Val Loss: nan\n",
      "Epoch: 1/1... Step: 13... Training Loss: 1.363321... Val Loss: nan\n",
      "Epoch: 1/1... Step: 14... Training Loss: 1.381239... Val Loss: nan\n",
      "Epoch: 1/1... Step: 15... Training Loss: 1.324661... Val Loss: nan\n",
      "Epoch: 1/1... Step: 16... Training Loss: 1.337833... Val Loss: nan\n",
      "Epoch: 1/1... Step: 17... Training Loss: 1.277598... Val Loss: nan\n",
      "Epoch: 1/1... Step: 18... Training Loss: 1.272931... Val Loss: nan\n",
      "Epoch: 1/1... Step: 19... Training Loss: 1.286259... Val Loss: nan\n",
      "Epoch: 1/1... Step: 20... Training Loss: 1.296433... Val Loss: nan\n",
      "Epoch: 1/1... Step: 21... Training Loss: 1.293101... Val Loss: nan\n",
      "Epoch: 1/1... Step: 22... Training Loss: 1.220053... Val Loss: nan\n",
      "Epoch: 1/1... Step: 23... Training Loss: 1.194964... Val Loss: nan\n",
      "Epoch: 1/1... Step: 24... Training Loss: 1.215439... Val Loss: nan\n",
      "Epoch: 1/1... Step: 25... Training Loss: 1.253460... Val Loss: nan\n",
      "Epoch: 1/1... Step: 26... Training Loss: 1.191305... Val Loss: nan\n",
      "Epoch: 1/1... Step: 27... Training Loss: 1.242168... Val Loss: nan\n",
      "Epoch: 1/1... Step: 28... Training Loss: 1.234330... Val Loss: nan\n",
      "Epoch: 1/1... Step: 29... Training Loss: 1.189359... Val Loss: nan\n",
      "Epoch: 1/1... Step: 30... Training Loss: 1.232985... Val Loss: nan\n",
      "Epoch: 1/1... Step: 31... Training Loss: 1.192907... Val Loss: nan\n",
      "Epoch: 1/1... Step: 32... Training Loss: 1.245825... Val Loss: nan\n",
      "Epoch: 1/1... Step: 33... Training Loss: 1.158467... Val Loss: nan\n",
      "Epoch: 1/1... Step: 34... Training Loss: 1.173732... Val Loss: nan\n",
      "Epoch: 1/1... Step: 35... Training Loss: 1.175613... Val Loss: nan\n",
      "Epoch: 1/1... Step: 36... Training Loss: 1.177247... Val Loss: nan\n",
      "Epoch: 1/1... Step: 37... Training Loss: 1.150675... Val Loss: nan\n",
      "Epoch: 1/1... Step: 38... Training Loss: 1.178875... Val Loss: nan\n",
      "Epoch: 1/1... Step: 39... Training Loss: 1.195846... Val Loss: nan\n",
      "Epoch: 1/1... Step: 40... Training Loss: 1.160699... Val Loss: nan\n",
      "Epoch: 1/1... Step: 41... Training Loss: 1.150432... Val Loss: nan\n",
      "Epoch: 1/1... Step: 42... Training Loss: 1.182428... Val Loss: nan\n",
      "Epoch: 1/1... Step: 43... Training Loss: 1.146734... Val Loss: nan\n",
      "Epoch: 1/1... Step: 44... Training Loss: 1.114147... Val Loss: nan\n",
      "Epoch: 1/1... Step: 45... Training Loss: 1.154882... Val Loss: nan\n",
      "Epoch: 1/1... Step: 46... Training Loss: 1.168358... Val Loss: nan\n",
      "Epoch: 1/1... Step: 47... Training Loss: 1.154944... Val Loss: nan\n",
      "Epoch: 1/1... Step: 48... Training Loss: 1.147347... Val Loss: nan\n",
      "Epoch: 1/1... Step: 49... Training Loss: 1.152902... Val Loss: nan\n",
      "Epoch: 1/1... Step: 50... Training Loss: 1.150251... Val Loss: nan\n",
      "Epoch: 1/1... Step: 51... Training Loss: 1.143799... Val Loss: nan\n",
      "Epoch: 1/1... Step: 52... Training Loss: 1.134752... Val Loss: nan\n",
      "Epoch: 1/1... Step: 53... Training Loss: 1.084770... Val Loss: nan\n",
      "Epoch: 1/1... Step: 54... Training Loss: 1.126748... Val Loss: nan\n",
      "Epoch: 1/1... Step: 55... Training Loss: 1.101028... Val Loss: nan\n",
      "Epoch: 1/1... Step: 56... Training Loss: 1.118173... Val Loss: nan\n",
      "Epoch: 1/1... Step: 57... Training Loss: 1.073306... Val Loss: nan\n",
      "Epoch: 1/1... Step: 58... Training Loss: 1.123926... Val Loss: nan\n",
      "Epoch: 1/1... Step: 59... Training Loss: 1.070730... Val Loss: nan\n",
      "Epoch: 1/1... Step: 60... Training Loss: 1.115042... Val Loss: nan\n",
      "Epoch: 1/1... Step: 61... Training Loss: 1.147706... Val Loss: nan\n",
      "Epoch: 1/1... Step: 62... Training Loss: 1.081149... Val Loss: nan\n",
      "Epoch: 1/1... Step: 63... Training Loss: 1.109288... Val Loss: nan\n",
      "Epoch: 1/1... Step: 64... Training Loss: 1.061257... Val Loss: nan\n",
      "Epoch: 1/1... Step: 65... Training Loss: 1.005647... Val Loss: nan\n",
      "Epoch: 1/1... Step: 66... Training Loss: 1.134197... Val Loss: nan\n",
      "Epoch: 1/1... Step: 67... Training Loss: 1.056571... Val Loss: nan\n",
      "Epoch: 1/1... Step: 68... Training Loss: 1.054064... Val Loss: nan\n",
      "Epoch: 1/1... Step: 69... Training Loss: 1.032655... Val Loss: nan\n",
      "Epoch: 1/1... Step: 70... Training Loss: 1.032371... Val Loss: nan\n"
     ]
    },
    {
     "ename": "KeyboardInterrupt",
     "evalue": "",
     "output_type": "error",
     "traceback": [
      "\u001b[0;31m---------------------------------------------------------------------------\u001b[0m",
      "\u001b[0;31mKeyboardInterrupt\u001b[0m                         Traceback (most recent call last)",
      "\u001b[0;32m<ipython-input-24-1452ad2cf917>\u001b[0m in \u001b[0;36m<module>\u001b[0;34m()\u001b[0m\n\u001b[1;32m     48\u001b[0m \u001b[0;34m\u001b[0m\u001b[0m\n\u001b[1;32m     49\u001b[0m         \u001b[0;31m# Making sure to clip my gradients\u001b[0m\u001b[0;34m\u001b[0m\u001b[0;34m\u001b[0m\u001b[0m\n\u001b[0;32m---> 50\u001b[0;31m         \u001b[0mnn\u001b[0m\u001b[0;34m.\u001b[0m\u001b[0mutils\u001b[0m\u001b[0;34m.\u001b[0m\u001b[0mclip_grad_norm_\u001b[0m\u001b[0;34m(\u001b[0m\u001b[0mmodel\u001b[0m\u001b[0;34m.\u001b[0m\u001b[0mparameters\u001b[0m\u001b[0;34m(\u001b[0m\u001b[0;34m)\u001b[0m\u001b[0;34m,\u001b[0m \u001b[0mclip\u001b[0m\u001b[0;34m)\u001b[0m\u001b[0;34m\u001b[0m\u001b[0m\n\u001b[0m\u001b[1;32m     51\u001b[0m         \u001b[0moptimizer\u001b[0m\u001b[0;34m.\u001b[0m\u001b[0mstep\u001b[0m\u001b[0;34m(\u001b[0m\u001b[0;34m)\u001b[0m\u001b[0;34m\u001b[0m\u001b[0m\n\u001b[1;32m     52\u001b[0m \u001b[0;34m\u001b[0m\u001b[0m\n",
      "\u001b[0;32m/opt/conda/lib/python3.6/site-packages/torch/nn/utils/clip_grad.py\u001b[0m in \u001b[0;36mclip_grad_norm_\u001b[0;34m(parameters, max_norm, norm_type)\u001b[0m\n\u001b[1;32m     26\u001b[0m         \u001b[0mtotal_norm\u001b[0m \u001b[0;34m=\u001b[0m \u001b[0;36m0\u001b[0m\u001b[0;34m\u001b[0m\u001b[0m\n\u001b[1;32m     27\u001b[0m         \u001b[0;32mfor\u001b[0m \u001b[0mp\u001b[0m \u001b[0;32min\u001b[0m \u001b[0mparameters\u001b[0m\u001b[0;34m:\u001b[0m\u001b[0;34m\u001b[0m\u001b[0m\n\u001b[0;32m---> 28\u001b[0;31m             \u001b[0mparam_norm\u001b[0m \u001b[0;34m=\u001b[0m \u001b[0mp\u001b[0m\u001b[0;34m.\u001b[0m\u001b[0mgrad\u001b[0m\u001b[0;34m.\u001b[0m\u001b[0mdata\u001b[0m\u001b[0;34m.\u001b[0m\u001b[0mnorm\u001b[0m\u001b[0;34m(\u001b[0m\u001b[0mnorm_type\u001b[0m\u001b[0;34m)\u001b[0m\u001b[0;34m\u001b[0m\u001b[0m\n\u001b[0m\u001b[1;32m     29\u001b[0m             \u001b[0mtotal_norm\u001b[0m \u001b[0;34m+=\u001b[0m \u001b[0mparam_norm\u001b[0m \u001b[0;34m**\u001b[0m \u001b[0mnorm_type\u001b[0m\u001b[0;34m\u001b[0m\u001b[0m\n\u001b[1;32m     30\u001b[0m         \u001b[0mtotal_norm\u001b[0m \u001b[0;34m=\u001b[0m \u001b[0mtotal_norm\u001b[0m \u001b[0;34m**\u001b[0m \u001b[0;34m(\u001b[0m\u001b[0;36m1.\u001b[0m \u001b[0;34m/\u001b[0m \u001b[0mnorm_type\u001b[0m\u001b[0;34m)\u001b[0m\u001b[0;34m\u001b[0m\u001b[0m\n",
      "\u001b[0;31mKeyboardInterrupt\u001b[0m: "
     ]
    }
   ],
   "source": [
    "\"\"\"\n",
    "Train your model with dropout. Make sure to clip your gradients.\n",
    "Print the training loss, validation loss, and validation accuracy for every 100 steps.\n",
    "\"\"\"\n",
    "\n",
    "epochs = 1\n",
    "batch_size = 512\n",
    "learning_rate = 0.001\n",
    "clip = 5\n",
    " \n",
    "print_every = 1\n",
    "criterion = nn.NLLLoss()\n",
    "optimizer = optim.Adam(model.parameters(), lr=learning_rate)\n",
    " \n",
    "#model.cuda()\n",
    "model.train()\n",
    " \n",
    "for epoch in range(epochs):\n",
    "    print('Starting epoch {}'.format(epoch + 1))\n",
    "    \n",
    "    steps = 0\n",
    "    for text_batch, labels in dataloader(train_features, train_labels, batch_size=batch_size, sequence_length=20, shuffle=True):\n",
    "        \n",
    "        \n",
    "        steps += 1\n",
    "       \n",
    "        # Zeroing out gradients \n",
    "        model.zero_grad()\n",
    "        \n",
    "        hidden = model.init_hidden(batch_size=labels.shape[0])\n",
    "        #hidden = tuple([each.data for each in hidden])\n",
    "       \n",
    "        # Set Device\n",
    "        text_batch, labels = text_batch.to(device), labels.to(device)\n",
    "        for each in hidden:\n",
    "            each.to(device)\n",
    "       \n",
    "        # TODO Implement: Train Model\n",
    "        \n",
    "       \n",
    "       \n",
    "        # Retreiving model output\n",
    "        output, hidden = model(text_batch, hidden)\n",
    "       \n",
    "        # Calculating traning loss and performing backpropagation\n",
    "        loss = criterion(output, labels) # output.squeeze()\n",
    "        loss.backward()\n",
    " \n",
    "        # Making sure to clip my gradients\n",
    "        nn.utils.clip_grad_norm_(model.parameters(), clip)\n",
    "        optimizer.step()\n",
    "       \n",
    "        # Validation loop\n",
    "        if steps % print_every == 0:\n",
    "            model.eval()\n",
    "           \n",
    "            # TODO Implement: Print metrics\n",
    "            \n",
    "            accuracy = 0\n",
    "            val_losses = []\n",
    "            val_h = model.init_hidden(batch_size=labels.shape[0])\n",
    "            \n",
    "            valid_batches = dataloader(valid_features, valid_labels, batch_size=batch_size, sequence_length=20, shuffle=True)\n",
    "            \n",
    "            \n",
    "            \n",
    "            for text_batch, labels in valid_batches:\n",
    "                \n",
    "                #val_h = model.init_hidden(batch_size=labels.shape[0])\n",
    "                val_h = tuple([each.data for each in val_h])\n",
    "                \n",
    "                \n",
    "                \n",
    "                # Setting device (CPU vs. GPU)\n",
    "                text_batch, labels = text_batch.to(device), labels.to(device)\n",
    "                for each in val_h:\n",
    "                    each.to(device)\n",
    "                \n",
    "                #output, val_h = model.forward(text_batch, val_h) #should this be forward or just model()?\n",
    "                \n",
    "                output, val_h = model(text_batch, val_h)\n",
    "        \n",
    "                # Validation loss calculating\n",
    "                \n",
    "                val_loss = criterion(output, labels)\n",
    "                val_losses.append(val_loss.items())\n",
    "                \n",
    "                # Accuracy Calculations\n",
    "                correct = 0\n",
    "                total = 0\n",
    "                with torch.no_grad():\n",
    "                    for valid_batches in dataloader:\n",
    "                        text_batch, labels = data\n",
    "                        outputs = net(text_batch)\n",
    "                        _, predicted = torch.max(outputs.data, 1)\n",
    "                        total += labels.size(0)\n",
    "                        correct += (predicted == labels).sum().item()\n",
    "                print(\"Accuracy: {:.6f}\".format(total/correct))       \n",
    "                \n",
    "\n",
    "                        \n",
    "#                 Calculating model accuracy\n",
    "#                 ps = torch.exp(logs)\n",
    "#                 top_p, top_class = ps.topk(1,dim=1)\n",
    "#                 equals = top_class == labels.view(*top_class.shape)\n",
    "#                 accuracy.append(torch.mean(equals.type(torch.FloatTensor)).item())\n",
    "\n",
    "                #topval, topclass = torch.exp(output).topk(1)\n",
    "                #accuracy += torch.sum(topclass.squeeze() == labels)\n",
    "           \n",
    "            model.train()\n",
    "            print(\"Epoch: {}/{}...\".format(epoch+1, epochs),\n",
    "                  \"Step: {}...\".format(steps),\n",
    "                  \"Training Loss: {:.6f}...\".format(loss.item()),\n",
    "                  \"Val Loss: {:.6f}\".format(np.mean(val_losses))),\n",
    "                  #\"Accuracy: {:.6f}\".format(total/correct))\n",
    "#             ,\n",
    "#                   \"Accuracy: {:.6f}\".format(accuracy/len(valid_labels)))\n"
   ]
  },
  {
   "cell_type": "code",
   "execution_count": 34,
   "metadata": {},
   "outputs": [
    {
     "name": "stdout",
     "output_type": "stream",
     "text": [
      "Starting epoch 1\n"
     ]
    },
    {
     "name": "stderr",
     "output_type": "stream",
     "text": [
      "/opt/conda/lib/python3.6/site-packages/numpy/core/fromnumeric.py:2889: RuntimeWarning: Mean of empty slice.\n",
      "  out=out, **kwargs)\n",
      "/opt/conda/lib/python3.6/site-packages/numpy/core/_methods.py:80: RuntimeWarning: invalid value encountered in double_scalars\n",
      "  ret = ret.dtype.type(ret / rcount)\n"
     ]
    },
    {
     "name": "stdout",
     "output_type": "stream",
     "text": [
      "Epoch: 1/1... Step: 1... Loss: 0.923404... Val Loss: nan\n",
      "Epoch: 1/1... Step: 2... Loss: 0.936746... Val Loss: nan\n",
      "Epoch: 1/1... Step: 3... Loss: 1.036846... Val Loss: nan\n",
      "Epoch: 1/1... Step: 4... Loss: 0.939241... Val Loss: nan\n",
      "Epoch: 1/1... Step: 5... Loss: 0.952239... Val Loss: nan\n",
      "Epoch: 1/1... Step: 6... Loss: 1.011768... Val Loss: nan\n",
      "Epoch: 1/1... Step: 7... Loss: 0.889867... Val Loss: nan\n",
      "Epoch: 1/1... Step: 8... Loss: 0.978625... Val Loss: nan\n",
      "Epoch: 1/1... Step: 9... Loss: 0.910241... Val Loss: nan\n",
      "Epoch: 1/1... Step: 10... Loss: 0.905008... Val Loss: nan\n",
      "Epoch: 1/1... Step: 11... Loss: 0.980552... Val Loss: nan\n",
      "Epoch: 1/1... Step: 12... Loss: 0.903932... Val Loss: nan\n",
      "Epoch: 1/1... Step: 13... Loss: 0.972375... Val Loss: nan\n",
      "Epoch: 1/1... Step: 14... Loss: 0.944407... Val Loss: nan\n",
      "Epoch: 1/1... Step: 15... Loss: 0.975000... Val Loss: nan\n",
      "Epoch: 1/1... Step: 16... Loss: 0.936312... Val Loss: nan\n",
      "Epoch: 1/1... Step: 17... Loss: 0.932518... Val Loss: nan\n",
      "Epoch: 1/1... Step: 18... Loss: 0.894550... Val Loss: nan\n",
      "Epoch: 1/1... Step: 19... Loss: 0.972947... Val Loss: nan\n",
      "Epoch: 1/1... Step: 20... Loss: 0.877423... Val Loss: nan\n",
      "Epoch: 1/1... Step: 21... Loss: 0.948957... Val Loss: nan\n",
      "Epoch: 1/1... Step: 22... Loss: 0.923018... Val Loss: nan\n",
      "Epoch: 1/1... Step: 23... Loss: 0.939707... Val Loss: nan\n",
      "Epoch: 1/1... Step: 24... Loss: 0.889599... Val Loss: nan\n",
      "Epoch: 1/1... Step: 25... Loss: 0.976583... Val Loss: nan\n",
      "Epoch: 1/1... Step: 26... Loss: 0.931731... Val Loss: nan\n",
      "Epoch: 1/1... Step: 27... Loss: 0.951416... Val Loss: nan\n",
      "Epoch: 1/1... Step: 28... Loss: 0.928529... Val Loss: nan\n",
      "Epoch: 1/1... Step: 29... Loss: 0.946267... Val Loss: nan\n",
      "Epoch: 1/1... Step: 30... Loss: 0.937838... Val Loss: nan\n",
      "Epoch: 1/1... Step: 31... Loss: 0.932615... Val Loss: nan\n",
      "Epoch: 1/1... Step: 32... Loss: 0.923933... Val Loss: nan\n",
      "Epoch: 1/1... Step: 33... Loss: 0.868472... Val Loss: nan\n",
      "Epoch: 1/1... Step: 34... Loss: 0.884792... Val Loss: nan\n",
      "Epoch: 1/1... Step: 35... Loss: 0.963261... Val Loss: nan\n",
      "Epoch: 1/1... Step: 36... Loss: 0.962103... Val Loss: nan\n",
      "Epoch: 1/1... Step: 37... Loss: 0.873817... Val Loss: nan\n",
      "Epoch: 1/1... Step: 38... Loss: 0.908134... Val Loss: nan\n",
      "Epoch: 1/1... Step: 39... Loss: 0.894191... Val Loss: nan\n",
      "Epoch: 1/1... Step: 40... Loss: 0.919850... Val Loss: nan\n",
      "Epoch: 1/1... Step: 41... Loss: 0.887469... Val Loss: nan\n"
     ]
    },
    {
     "ename": "KeyboardInterrupt",
     "evalue": "",
     "output_type": "error",
     "traceback": [
      "\u001b[0;31m---------------------------------------------------------------------------\u001b[0m",
      "\u001b[0;31mKeyboardInterrupt\u001b[0m                         Traceback (most recent call last)",
      "\u001b[0;32m<ipython-input-34-e6da6d8d113f>\u001b[0m in \u001b[0;36m<module>\u001b[0;34m()\u001b[0m\n\u001b[1;32m     47\u001b[0m \u001b[0;34m\u001b[0m\u001b[0m\n\u001b[1;32m     48\u001b[0m         \u001b[0;31m# `clip_grad_norm` helps prevent the exploding gradient problem in RNNs / LSTMs.\u001b[0m\u001b[0;34m\u001b[0m\u001b[0;34m\u001b[0m\u001b[0m\n\u001b[0;32m---> 49\u001b[0;31m         \u001b[0mnn\u001b[0m\u001b[0;34m.\u001b[0m\u001b[0mutils\u001b[0m\u001b[0;34m.\u001b[0m\u001b[0mclip_grad_norm_\u001b[0m\u001b[0;34m(\u001b[0m\u001b[0mmodel\u001b[0m\u001b[0;34m.\u001b[0m\u001b[0mparameters\u001b[0m\u001b[0;34m(\u001b[0m\u001b[0;34m)\u001b[0m\u001b[0;34m,\u001b[0m \u001b[0mclip\u001b[0m\u001b[0;34m)\u001b[0m\u001b[0;34m\u001b[0m\u001b[0m\n\u001b[0m\u001b[1;32m     50\u001b[0m         \u001b[0moptimizer\u001b[0m\u001b[0;34m.\u001b[0m\u001b[0mstep\u001b[0m\u001b[0;34m(\u001b[0m\u001b[0;34m)\u001b[0m\u001b[0;34m\u001b[0m\u001b[0m\n\u001b[1;32m     51\u001b[0m \u001b[0;34m\u001b[0m\u001b[0m\n",
      "\u001b[0;32m/opt/conda/lib/python3.6/site-packages/torch/nn/utils/clip_grad.py\u001b[0m in \u001b[0;36mclip_grad_norm_\u001b[0;34m(parameters, max_norm, norm_type)\u001b[0m\n\u001b[1;32m     26\u001b[0m         \u001b[0mtotal_norm\u001b[0m \u001b[0;34m=\u001b[0m \u001b[0;36m0\u001b[0m\u001b[0;34m\u001b[0m\u001b[0m\n\u001b[1;32m     27\u001b[0m         \u001b[0;32mfor\u001b[0m \u001b[0mp\u001b[0m \u001b[0;32min\u001b[0m \u001b[0mparameters\u001b[0m\u001b[0;34m:\u001b[0m\u001b[0;34m\u001b[0m\u001b[0m\n\u001b[0;32m---> 28\u001b[0;31m             \u001b[0mparam_norm\u001b[0m \u001b[0;34m=\u001b[0m \u001b[0mp\u001b[0m\u001b[0;34m.\u001b[0m\u001b[0mgrad\u001b[0m\u001b[0;34m.\u001b[0m\u001b[0mdata\u001b[0m\u001b[0;34m.\u001b[0m\u001b[0mnorm\u001b[0m\u001b[0;34m(\u001b[0m\u001b[0mnorm_type\u001b[0m\u001b[0;34m)\u001b[0m\u001b[0;34m\u001b[0m\u001b[0m\n\u001b[0m\u001b[1;32m     29\u001b[0m             \u001b[0mtotal_norm\u001b[0m \u001b[0;34m+=\u001b[0m \u001b[0mparam_norm\u001b[0m \u001b[0;34m**\u001b[0m \u001b[0mnorm_type\u001b[0m\u001b[0;34m\u001b[0m\u001b[0m\n\u001b[1;32m     30\u001b[0m         \u001b[0mtotal_norm\u001b[0m \u001b[0;34m=\u001b[0m \u001b[0mtotal_norm\u001b[0m \u001b[0;34m**\u001b[0m \u001b[0;34m(\u001b[0m\u001b[0;36m1.\u001b[0m \u001b[0;34m/\u001b[0m \u001b[0mnorm_type\u001b[0m\u001b[0;34m)\u001b[0m\u001b[0;34m\u001b[0m\u001b[0m\n",
      "\u001b[0;31mKeyboardInterrupt\u001b[0m: "
     ]
    }
   ],
   "source": [
    "\"\"\"\n",
    "\n",
    "STARTING OVER FROM SCRATCH \n",
    "\n",
    "\n",
    "Train your model with dropout. Make sure to clip your gradients.\n",
    "Print the training loss, validation loss, and validation accuracy for every 100 steps.\n",
    "\"\"\"\n",
    "\n",
    "epochs = 1\n",
    "batch_size = 512\n",
    "learning_rate = .001\n",
    "clip = 5\n",
    "\n",
    "print_every = 1\n",
    "criterion = nn.NLLLoss()\n",
    "optimizer = optim.Adam(model.parameters(), lr=learning_rate)\n",
    "model.train()\n",
    "\n",
    "for epoch in range(epochs):\n",
    "    print('Starting epoch {}'.format(epoch + 1))\n",
    "    \n",
    "    hidden = model.init_hidden(batch_size=labels.shape[0])\n",
    "    \n",
    "    steps = 0\n",
    "    for text_batch, labels in dataloader(\n",
    "            train_features, train_labels, batch_size=batch_size, sequence_length=20, shuffle=True):\n",
    "        steps += 1\n",
    "        hidden = tuple([each.data for each in hidden])\n",
    "        \n",
    "        # Set Device\n",
    "        text_batch, labels = text_batch.to(device), labels.to(device)\n",
    "        for each in hidden:\n",
    "            each.to(device)\n",
    "        \n",
    "        # TODO Implement: Train Model\n",
    "        \n",
    "        # zero accumulated gradients\n",
    "        model.zero_grad()\n",
    "\n",
    "        # get the output from the model\n",
    "        output, hidden = model(text_batch, hidden)\n",
    "\n",
    "        # calculate the loss and perform backprop\n",
    "        loss = criterion(output.squeeze(), labels)\n",
    "        loss.backward()\n",
    "        \n",
    "        # `clip_grad_norm` helps prevent the exploding gradient problem in RNNs / LSTMs.\n",
    "        nn.utils.clip_grad_norm_(model.parameters(), clip)\n",
    "        optimizer.step()\n",
    "        \n",
    "        if steps % print_every == 0:\n",
    "            model.eval()\n",
    "            #val_h = model.init_hidden(batch_size=labels.shape[0])\n",
    "            val_losses = []\n",
    "            \n",
    "            \n",
    "            \n",
    "            for inputs, labels in dataloader(valid_features, valid_labels, batch_size=batch_size, sequence_length=20, shuffle=True):\n",
    "\n",
    "                # Creating new variables for the hidden state, otherwise\n",
    "                # we'd backprop through the entire training history\n",
    "                val_h = model.init_hidden(batch_size=labels.shape[0])\n",
    "                val_h = tuple([each.data for each in val_h])\n",
    "\n",
    "#                 if(train_on_gpu):\n",
    "#                     inputs, labels = inputs.cuda(), labels.cuda()\n",
    "\n",
    "                output, val_h = model(text_batch, val_h)\n",
    "                val_loss = criterion(output.squeeze(), labels)\n",
    "\n",
    "                val_losses.append(val_loss.item())\n",
    "            \n",
    "            # TODO Implement: Print metrics\n",
    "            \n",
    "            model.train()\n",
    "            print(\"Epoch: {}/{}...\".format(epoch+1, epochs),\n",
    "                  \"Step: {}...\".format(steps),\n",
    "                  \"Loss: {:.6f}...\".format(loss.item()),\n",
    "                  \"Val Loss: {:.6f}\".format(np.mean(val_losses)))"
   ]
  },
  {
   "cell_type": "markdown",
   "metadata": {},
   "source": [
    "## Making Predictions\n",
    "### Prediction \n",
    "Okay, now that you have a trained model, try it on some new twits and see if it works appropriately. Remember that for any new text, you'll need to preprocess it first before passing it to the network. Implement the `predict` function to generate the prediction vector from a message."
   ]
  },
  {
   "cell_type": "code",
   "execution_count": null,
   "metadata": {},
   "outputs": [],
   "source": [
    "def predict(text, model, vocab):\n",
    "    \"\"\" \n",
    "    Make a prediction on a single sentence.\n",
    "\n",
    "    Parameters\n",
    "    ----------\n",
    "        text : The string to make a prediction on.\n",
    "        model : The model to use for making the prediction.\n",
    "        vocab : Dictionary for word to word ids. The key is the word and the value is the word id.\n",
    "\n",
    "    Returns\n",
    "    -------\n",
    "        pred : Prediction vector\n",
    "    \"\"\"    \n",
    "    \n",
    "    # TODO Implement\n",
    "    \n",
    "    tokens = preprocess(text)\n",
    "    \n",
    "    # Filter non-vocab words\n",
    "    tokens = [word for word in message if word in vocab]\n",
    "    # Convert words to ids\n",
    "    tokens = [vocab[word] for word in tokens if word in vocab]\n",
    "\n",
    "        \n",
    "    # Adding a batch dimension\n",
    "    text_input = tokens.size(0)\n",
    "    \n",
    "    #torch.from_numpy(np.asarray(torch.FloatTensor(tokens).view(-1, 1)))\n",
    "    # Get the NN output\n",
    "    hidden = model.init_hidden(text_input)\n",
    "    logps, _ = model.forward(text_input, hidden)\n",
    "    # Take the exponent of the NN output to get a range of 0 to 1 for each label.\n",
    "    pred = torch.exp(logps)\n",
    "    \n",
    "    return pred"
   ]
  },
  {
   "cell_type": "code",
   "execution_count": null,
   "metadata": {},
   "outputs": [],
   "source": [
    "text = \"Google is working on self driving cars, I'm bullish on $goog\"\n",
    "model.eval()\n",
    "model.to(\"cpu\")\n",
    "predict(text, model, vocab)"
   ]
  },
  {
   "cell_type": "markdown",
   "metadata": {},
   "source": [
    "### Questions: What is the prediction of the model? What is the uncertainty of the prediction?\n",
    "** TODO: Answer Question**\n",
    "\n",
    "The prediction of the model approached XX%. The level of uncertainty aftertraning was XX%. "
   ]
  },
  {
   "cell_type": "markdown",
   "metadata": {},
   "source": [
    "Now we have a trained model and we can make predictions. We can use this model to track the sentiments of various stocks by predicting the sentiments of twits as they are coming in. Now we have a stream of twits. For each of those twits, pull out the stocks mentioned in them and keep track of the sentiments. Remember that in the twits, ticker symbols are encoded with a dollar sign as the first character, all caps, and 2-4 letters, like $AAPL. Ideally, you'd want to track the sentiments of the stocks in your universe and use this as a signal in your larger model(s).\n",
    "\n",
    "## Testing\n",
    "### Load the Data "
   ]
  },
  {
   "cell_type": "code",
   "execution_count": null,
   "metadata": {},
   "outputs": [],
   "source": [
    "with open(os.path.join('..', '..', 'data', 'project_6_stocktwits', 'test_twits.json'), 'r') as f:\n",
    "    test_data = json.load(f)"
   ]
  },
  {
   "cell_type": "markdown",
   "metadata": {},
   "source": [
    "### Twit Stream"
   ]
  },
  {
   "cell_type": "code",
   "execution_count": null,
   "metadata": {},
   "outputs": [],
   "source": [
    "def twit_stream():\n",
    "    for twit in test_data['data']:\n",
    "        yield twit\n",
    "\n",
    "next(twit_stream())"
   ]
  },
  {
   "cell_type": "markdown",
   "metadata": {},
   "source": [
    "Using the `prediction` function, let's apply it to a stream of twits."
   ]
  },
  {
   "cell_type": "code",
   "execution_count": null,
   "metadata": {},
   "outputs": [],
   "source": [
    "def score_twits(stream, model, vocab, universe):\n",
    "    \"\"\" \n",
    "    Given a stream of twits and a universe of tickers, return sentiment scores for tickers in the universe.\n",
    "    \"\"\"\n",
    "    for twit in stream:\n",
    "\n",
    "        # Get the message text\n",
    "        text = twit['message_body']\n",
    "        symbols = re.findall('\\$[A-Z]{2,4}', text)\n",
    "        score = predict(text, model, vocab)\n",
    "\n",
    "        for symbol in symbols:\n",
    "            if symbol in universe:\n",
    "                yield {'symbol': symbol, 'score': score, 'timestamp': twit['timestamp']}"
   ]
  },
  {
   "cell_type": "code",
   "execution_count": null,
   "metadata": {},
   "outputs": [],
   "source": [
    "universe = {'$BBRY', '$AAPL', '$AMZN', '$BABA', '$YHOO', '$LQMT', '$FB', '$GOOG', '$BBBY', '$JNUG', '$SBUX', '$MU'}\n",
    "score_stream = score_twits(twit_stream(), model, vocab, universe)\n",
    "\n",
    "next(score_stream)"
   ]
  },
  {
   "cell_type": "markdown",
   "metadata": {},
   "source": [
    "That's it. You have successfully built a model for sentiment analysis! "
   ]
  },
  {
   "cell_type": "markdown",
   "metadata": {},
   "source": [
    "## Submission\n",
    "Now that you're done with the project, it's time to submit it. Click the submit button in the bottom right. One of our reviewers will give you feedback on your project with a pass or not passed grade. You can continue to the next section while you wait for feedback."
   ]
  }
 ],
 "metadata": {
  "kernelspec": {
   "display_name": "Python 3",
   "language": "python",
   "name": "python3"
  },
  "language_info": {
   "codemirror_mode": {
    "name": "ipython",
    "version": 3
   },
   "file_extension": ".py",
   "mimetype": "text/x-python",
   "name": "python",
   "nbconvert_exporter": "python",
   "pygments_lexer": "ipython3",
   "version": "3.6.3"
  }
 },
 "nbformat": 4,
 "nbformat_minor": 2
}
